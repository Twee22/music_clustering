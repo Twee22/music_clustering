{
 "cells": [
  {
   "cell_type": "code",
   "execution_count": 28,
   "id": "d2a4e79a-3bea-4f5d-ad43-dde90aaf468b",
   "metadata": {},
   "outputs": [],
   "source": [
    "import pandas as pd\n",
    "import numpy as np\n",
    "import matplotlib.pyplot as plt\n",
    "\n",
    "from sklearn.feature_selection import SelectKBest, f_classif\n",
    "\n",
    "from sklearn.model_selection import train_test_split\n",
    "from sklearn.metrics import confusion_matrix\n",
    "from sklearn.metrics import accuracy_score\n",
    "from sklearn.preprocessing import StandardScaler\n",
    "from sklearn import tree\n",
    "from sklearn.ensemble import RandomForestClassifier\n",
    "from sklearn.neural_network import MLPClassifier\n",
    "from sklearn.model_selection import GridSearchCV\n",
    "from sklearn.metrics import classification_report"
   ]
  },
  {
   "cell_type": "code",
   "execution_count": 2,
   "id": "de4c7f18-5d02-4b7e-ba68-5d13de50ac5d",
   "metadata": {},
   "outputs": [],
   "source": [
    "from ipynb.fs.full.data_loading import get_usable_data"
   ]
  },
  {
   "cell_type": "code",
   "execution_count": 3,
   "id": "bc2096c0-e160-4fcd-ae37-959864aedb73",
   "metadata": {},
   "outputs": [],
   "source": [
    "data = get_usable_data()"
   ]
  },
  {
   "cell_type": "code",
   "execution_count": 4,
   "id": "608a6821-68f0-4753-80ac-ff49a5757033",
   "metadata": {},
   "outputs": [
    {
     "data": {
      "text/html": [
       "<div>\n",
       "<style scoped>\n",
       "    .dataframe tbody tr th:only-of-type {\n",
       "        vertical-align: middle;\n",
       "    }\n",
       "\n",
       "    .dataframe tbody tr th {\n",
       "        vertical-align: top;\n",
       "    }\n",
       "\n",
       "    .dataframe thead th {\n",
       "        text-align: right;\n",
       "    }\n",
       "</style>\n",
       "<table border=\"1\" class=\"dataframe\">\n",
       "  <thead>\n",
       "    <tr style=\"text-align: right;\">\n",
       "      <th></th>\n",
       "      <th>filename</th>\n",
       "      <th>label</th>\n",
       "      <th>audio_data</th>\n",
       "      <th>audio_sr</th>\n",
       "      <th>chroma_stft_mean</th>\n",
       "      <th>chroma_stft_stdev</th>\n",
       "      <th>chroma_stft_var</th>\n",
       "      <th>rms_mean</th>\n",
       "      <th>rms_stdev</th>\n",
       "      <th>rms_var</th>\n",
       "      <th>...</th>\n",
       "      <th>mfccs_17_var</th>\n",
       "      <th>mfccs_18_mean</th>\n",
       "      <th>mfccs_18_stdev</th>\n",
       "      <th>mfccs_18_var</th>\n",
       "      <th>mfccs_19_mean</th>\n",
       "      <th>mfccs_19_stdev</th>\n",
       "      <th>mfccs_19_var</th>\n",
       "      <th>mfccs_20_mean</th>\n",
       "      <th>mfccs_20_stdev</th>\n",
       "      <th>mfccs_20_var</th>\n",
       "    </tr>\n",
       "  </thead>\n",
       "  <tbody>\n",
       "    <tr>\n",
       "      <th>0</th>\n",
       "      <td>blues.00000.wav</td>\n",
       "      <td>blues</td>\n",
       "      <td>[0.0073242188, 0.016601562, 0.0076293945, -0.0...</td>\n",
       "      <td>22050</td>\n",
       "      <td>0.350129</td>\n",
       "      <td>0.297946</td>\n",
       "      <td>0.088772</td>\n",
       "      <td>0.130184</td>\n",
       "      <td>0.053183</td>\n",
       "      <td>0.002828</td>\n",
       "      <td>...</td>\n",
       "      <td>36.535866</td>\n",
       "      <td>-0.408730</td>\n",
       "      <td>6.450052</td>\n",
       "      <td>41.603168</td>\n",
       "      <td>-2.302677</td>\n",
       "      <td>7.419815</td>\n",
       "      <td>55.053650</td>\n",
       "      <td>1.222467</td>\n",
       "      <td>6.851376</td>\n",
       "      <td>46.941349</td>\n",
       "    </tr>\n",
       "    <tr>\n",
       "      <th>1</th>\n",
       "      <td>blues.00001.wav</td>\n",
       "      <td>blues</td>\n",
       "      <td>[0.0034179688, 0.0043029785, 0.001373291, 0.00...</td>\n",
       "      <td>22050</td>\n",
       "      <td>0.340849</td>\n",
       "      <td>0.308182</td>\n",
       "      <td>0.094976</td>\n",
       "      <td>0.095908</td>\n",
       "      <td>0.048711</td>\n",
       "      <td>0.002373</td>\n",
       "      <td>...</td>\n",
       "      <td>60.231415</td>\n",
       "      <td>0.296872</td>\n",
       "      <td>6.937811</td>\n",
       "      <td>48.133217</td>\n",
       "      <td>-0.282430</td>\n",
       "      <td>7.148847</td>\n",
       "      <td>51.106014</td>\n",
       "      <td>0.530644</td>\n",
       "      <td>6.766735</td>\n",
       "      <td>45.788700</td>\n",
       "    </tr>\n",
       "    <tr>\n",
       "      <th>2</th>\n",
       "      <td>blues.00002.wav</td>\n",
       "      <td>blues</td>\n",
       "      <td>[0.019012451, 0.047698975, 0.029418945, -0.018...</td>\n",
       "      <td>22050</td>\n",
       "      <td>0.363538</td>\n",
       "      <td>0.291987</td>\n",
       "      <td>0.085257</td>\n",
       "      <td>0.175473</td>\n",
       "      <td>0.052449</td>\n",
       "      <td>0.002751</td>\n",
       "      <td>...</td>\n",
       "      <td>47.629646</td>\n",
       "      <td>-1.819024</td>\n",
       "      <td>7.238342</td>\n",
       "      <td>52.393597</td>\n",
       "      <td>-3.440458</td>\n",
       "      <td>6.829597</td>\n",
       "      <td>46.643394</td>\n",
       "      <td>-2.238128</td>\n",
       "      <td>5.536529</td>\n",
       "      <td>30.653151</td>\n",
       "    </tr>\n",
       "    <tr>\n",
       "      <th>3</th>\n",
       "      <td>blues.00003.wav</td>\n",
       "      <td>blues</td>\n",
       "      <td>[-0.013000488, -0.03060913, -0.036071777, -0.0...</td>\n",
       "      <td>22050</td>\n",
       "      <td>0.404854</td>\n",
       "      <td>0.306592</td>\n",
       "      <td>0.093999</td>\n",
       "      <td>0.141040</td>\n",
       "      <td>0.079672</td>\n",
       "      <td>0.006348</td>\n",
       "      <td>...</td>\n",
       "      <td>50.218452</td>\n",
       "      <td>0.636311</td>\n",
       "      <td>6.109478</td>\n",
       "      <td>37.325726</td>\n",
       "      <td>-0.615968</td>\n",
       "      <td>6.103915</td>\n",
       "      <td>37.257774</td>\n",
       "      <td>-3.405046</td>\n",
       "      <td>5.653782</td>\n",
       "      <td>31.965254</td>\n",
       "    </tr>\n",
       "    <tr>\n",
       "      <th>4</th>\n",
       "      <td>blues.00004.wav</td>\n",
       "      <td>blues</td>\n",
       "      <td>[-0.0063171387, -0.009277344, -0.008331299, -0...</td>\n",
       "      <td>22050</td>\n",
       "      <td>0.308526</td>\n",
       "      <td>0.296383</td>\n",
       "      <td>0.087843</td>\n",
       "      <td>0.091501</td>\n",
       "      <td>0.048013</td>\n",
       "      <td>0.002305</td>\n",
       "      <td>...</td>\n",
       "      <td>75.276741</td>\n",
       "      <td>-0.915952</td>\n",
       "      <td>7.323472</td>\n",
       "      <td>53.633236</td>\n",
       "      <td>-4.408018</td>\n",
       "      <td>7.929848</td>\n",
       "      <td>62.882492</td>\n",
       "      <td>-11.704385</td>\n",
       "      <td>7.429014</td>\n",
       "      <td>55.190254</td>\n",
       "    </tr>\n",
       "  </tbody>\n",
       "</table>\n",
       "<p>5 rows × 82 columns</p>\n",
       "</div>"
      ],
      "text/plain": [
       "          filename  label                                         audio_data  \\\n",
       "0  blues.00000.wav  blues  [0.0073242188, 0.016601562, 0.0076293945, -0.0...   \n",
       "1  blues.00001.wav  blues  [0.0034179688, 0.0043029785, 0.001373291, 0.00...   \n",
       "2  blues.00002.wav  blues  [0.019012451, 0.047698975, 0.029418945, -0.018...   \n",
       "3  blues.00003.wav  blues  [-0.013000488, -0.03060913, -0.036071777, -0.0...   \n",
       "4  blues.00004.wav  blues  [-0.0063171387, -0.009277344, -0.008331299, -0...   \n",
       "\n",
       "   audio_sr  chroma_stft_mean  chroma_stft_stdev  chroma_stft_var  rms_mean  \\\n",
       "0     22050          0.350129           0.297946         0.088772  0.130184   \n",
       "1     22050          0.340849           0.308182         0.094976  0.095908   \n",
       "2     22050          0.363538           0.291987         0.085257  0.175473   \n",
       "3     22050          0.404854           0.306592         0.093999  0.141040   \n",
       "4     22050          0.308526           0.296383         0.087843  0.091501   \n",
       "\n",
       "   rms_stdev   rms_var  ...  mfccs_17_var  mfccs_18_mean  mfccs_18_stdev  \\\n",
       "0   0.053183  0.002828  ...     36.535866      -0.408730        6.450052   \n",
       "1   0.048711  0.002373  ...     60.231415       0.296872        6.937811   \n",
       "2   0.052449  0.002751  ...     47.629646      -1.819024        7.238342   \n",
       "3   0.079672  0.006348  ...     50.218452       0.636311        6.109478   \n",
       "4   0.048013  0.002305  ...     75.276741      -0.915952        7.323472   \n",
       "\n",
       "   mfccs_18_var  mfccs_19_mean  mfccs_19_stdev  mfccs_19_var  mfccs_20_mean  \\\n",
       "0     41.603168      -2.302677        7.419815     55.053650       1.222467   \n",
       "1     48.133217      -0.282430        7.148847     51.106014       0.530644   \n",
       "2     52.393597      -3.440458        6.829597     46.643394      -2.238128   \n",
       "3     37.325726      -0.615968        6.103915     37.257774      -3.405046   \n",
       "4     53.633236      -4.408018        7.929848     62.882492     -11.704385   \n",
       "\n",
       "   mfccs_20_stdev  mfccs_20_var  \n",
       "0        6.851376     46.941349  \n",
       "1        6.766735     45.788700  \n",
       "2        5.536529     30.653151  \n",
       "3        5.653782     31.965254  \n",
       "4        7.429014     55.190254  \n",
       "\n",
       "[5 rows x 82 columns]"
      ]
     },
     "execution_count": 4,
     "metadata": {},
     "output_type": "execute_result"
    }
   ],
   "source": [
    "data.head()"
   ]
  },
  {
   "cell_type": "code",
   "execution_count": 5,
   "id": "c443fb5d-d889-4e33-b673-437c46439888",
   "metadata": {},
   "outputs": [],
   "source": [
    "y = data['label']\n",
    "X = data.drop(labels=['label', 'filename', 'audio_data', 'audio_sr'],axis=1)"
   ]
  },
  {
   "cell_type": "code",
   "execution_count": 6,
   "id": "cfe1e370-452c-4f24-840c-780a2479c054",
   "metadata": {},
   "outputs": [],
   "source": [
    "X_train, X_test, y_train, y_test = train_test_split(X, y, test_size=0.33, random_state=0)"
   ]
  },
  {
   "cell_type": "code",
   "execution_count": 7,
   "id": "d7f206ba-a6a2-4c8a-837d-7928d193afcd",
   "metadata": {},
   "outputs": [],
   "source": [
    "scaler = StandardScaler()\n",
    "X_train_scaled = scaler.fit_transform(X_train)\n",
    "X_test_scaled = scaler.transform(X_test)"
   ]
  },
  {
   "cell_type": "code",
   "execution_count": 8,
   "id": "8d4335b8-3c14-4162-88ea-568ce2d02382",
   "metadata": {},
   "outputs": [],
   "source": [
    "dt = tree.DecisionTreeClassifier()\n",
    "dt = dt.fit(X_train, y_train)"
   ]
  },
  {
   "cell_type": "code",
   "execution_count": 9,
   "id": "f1a43c17-21b0-41d9-a9fa-62aec4d0e901",
   "metadata": {},
   "outputs": [
    {
     "name": "stdout",
     "output_type": "stream",
     "text": [
      "0.48787878787878786\n"
     ]
    },
    {
     "data": {
      "text/plain": [
       "array([[18,  0,  1,  2,  2,  0,  2,  1,  2,  6],\n",
       "       [ 0, 17,  3,  0,  0,  4,  0,  0,  0,  0],\n",
       "       [ 4,  0, 15,  2,  0,  9,  0,  2,  0,  5],\n",
       "       [ 2,  0,  2,  7,  7,  0,  2,  4,  3,  6],\n",
       "       [ 4,  0,  0,  1, 19,  0,  3,  6,  3,  1],\n",
       "       [ 2,  3,  3,  2,  1, 14,  0,  1,  0,  0],\n",
       "       [ 2,  0,  0,  2,  2,  0, 26,  0,  0,  0],\n",
       "       [ 0,  0,  1,  5,  6,  0,  0, 17,  3,  1],\n",
       "       [ 2,  0,  1,  5,  9,  0,  0,  2, 16,  2],\n",
       "       [ 5,  0,  5,  6,  1,  2,  4,  0,  2, 12]], dtype=int64)"
      ]
     },
     "execution_count": 9,
     "metadata": {},
     "output_type": "execute_result"
    }
   ],
   "source": [
    "y_pred_dt = dt.predict(X_test)\n",
    "print(accuracy_score(y_test, y_pred_dt))\n",
    "confusion_matrix(y_test, y_pred_dt)"
   ]
  },
  {
   "cell_type": "code",
   "execution_count": 10,
   "id": "6229ac12-1d94-430a-9bf6-337e60d57b9e",
   "metadata": {},
   "outputs": [],
   "source": [
    "dt_scaled = tree.DecisionTreeClassifier()\n",
    "dt_scaled = dt_scaled.fit(X_train_scaled, y_train)"
   ]
  },
  {
   "cell_type": "code",
   "execution_count": 11,
   "id": "6ab700f3-679a-44a6-b9b1-d08575f3edd5",
   "metadata": {},
   "outputs": [
    {
     "name": "stdout",
     "output_type": "stream",
     "text": [
      "0.47575757575757577\n"
     ]
    },
    {
     "data": {
      "text/plain": [
       "array([[15,  1,  3,  2,  1,  1,  4,  2,  1,  4],\n",
       "       [ 1, 18,  2,  0,  0,  3,  0,  0,  0,  0],\n",
       "       [ 4,  2, 15,  4,  0,  4,  0,  1,  2,  5],\n",
       "       [ 3,  0,  2,  8,  7,  0,  1,  4,  3,  5],\n",
       "       [ 4,  0,  0,  2, 20,  0,  1,  5,  4,  1],\n",
       "       [ 1,  4,  3,  0,  1, 15,  0,  2,  0,  0],\n",
       "       [ 1,  0,  0,  2,  2,  0, 24,  0,  0,  3],\n",
       "       [ 1,  1,  1,  4,  3,  1,  0, 18,  4,  0],\n",
       "       [ 1,  0,  1,  4,  7,  0,  0,  4, 14,  6],\n",
       "       [ 5,  2,  4,  5,  1,  1,  5,  1,  3, 10]], dtype=int64)"
      ]
     },
     "execution_count": 11,
     "metadata": {},
     "output_type": "execute_result"
    }
   ],
   "source": [
    "y_pred_dt_scaled = dt_scaled.predict(X_test_scaled)\n",
    "print(accuracy_score(y_test, y_pred_dt_scaled))\n",
    "confusion_matrix(y_test, y_pred_dt_scaled)"
   ]
  },
  {
   "cell_type": "code",
   "execution_count": 12,
   "id": "7e105cd7-54ab-4bb9-8b27-79956df38a70",
   "metadata": {},
   "outputs": [],
   "source": [
    "rf = RandomForestClassifier(max_depth=2, random_state=0)\n",
    "rf = rf.fit(X_train, y_train)"
   ]
  },
  {
   "cell_type": "code",
   "execution_count": 13,
   "id": "577ca18c-8445-41b9-940f-40c44afb015b",
   "metadata": {},
   "outputs": [
    {
     "name": "stdout",
     "output_type": "stream",
     "text": [
      "0.4121212121212121\n"
     ]
    },
    {
     "data": {
      "text/plain": [
       "array([[10,  2,  0,  0,  1,  7, 13,  0,  1,  0],\n",
       "       [ 0, 24,  0,  0,  0,  0,  0,  0,  0,  0],\n",
       "       [11,  7,  1,  6,  0,  5,  3,  1,  2,  1],\n",
       "       [ 0,  0,  1,  9,  3,  0,  6,  8,  6,  0],\n",
       "       [ 3,  0,  0,  2, 11,  0,  9, 11,  1,  0],\n",
       "       [ 1, 11,  0,  3,  0,  9,  2,  0,  0,  0],\n",
       "       [ 1,  0,  0,  0,  0,  0, 31,  0,  0,  0],\n",
       "       [ 0,  0,  1,  0,  0,  2,  1, 26,  3,  0],\n",
       "       [ 3,  1,  1,  3,  4,  0,  2,  8, 15,  0],\n",
       "       [ 3,  5,  0,  7,  0,  2, 12,  4,  4,  0]], dtype=int64)"
      ]
     },
     "execution_count": 13,
     "metadata": {},
     "output_type": "execute_result"
    }
   ],
   "source": [
    "y_pred_rf = rf.predict(X_test)\n",
    "print(accuracy_score(y_test, y_pred_rf))\n",
    "confusion_matrix(y_test, y_pred_rf)"
   ]
  },
  {
   "cell_type": "code",
   "execution_count": 14,
   "id": "1dfe8dda-62f9-4313-908a-8f2d318684c7",
   "metadata": {},
   "outputs": [],
   "source": [
    "rf_scaled = RandomForestClassifier(max_depth=2, random_state=0)\n",
    "rf_scaled = rf_scaled.fit(X_train_scaled, y_train)"
   ]
  },
  {
   "cell_type": "code",
   "execution_count": 15,
   "id": "30cd7d99-6bc7-49f9-a762-8f2054441aec",
   "metadata": {},
   "outputs": [
    {
     "name": "stdout",
     "output_type": "stream",
     "text": [
      "0.4121212121212121\n"
     ]
    },
    {
     "data": {
      "text/plain": [
       "array([[10,  2,  0,  0,  1,  7, 13,  0,  1,  0],\n",
       "       [ 0, 24,  0,  0,  0,  0,  0,  0,  0,  0],\n",
       "       [11,  7,  1,  6,  0,  5,  3,  1,  2,  1],\n",
       "       [ 0,  0,  1,  9,  3,  0,  6,  8,  6,  0],\n",
       "       [ 3,  0,  0,  2, 11,  0,  9, 11,  1,  0],\n",
       "       [ 1, 11,  0,  3,  0,  9,  2,  0,  0,  0],\n",
       "       [ 1,  0,  0,  0,  0,  0, 31,  0,  0,  0],\n",
       "       [ 0,  0,  1,  0,  0,  2,  1, 26,  3,  0],\n",
       "       [ 3,  1,  1,  3,  4,  0,  2,  8, 15,  0],\n",
       "       [ 3,  5,  0,  7,  0,  2, 12,  4,  4,  0]], dtype=int64)"
      ]
     },
     "execution_count": 15,
     "metadata": {},
     "output_type": "execute_result"
    }
   ],
   "source": [
    "y_pred_rf_scaled = rf_scaled.predict(X_test_scaled)\n",
    "print(accuracy_score(y_test, y_pred_rf_scaled))\n",
    "confusion_matrix(y_test, y_pred_rf_scaled)"
   ]
  },
  {
   "cell_type": "code",
   "execution_count": 16,
   "id": "7dfcedb7-9a51-4966-bfe8-add723dd4766",
   "metadata": {},
   "outputs": [],
   "source": [
    "from sklearn.neural_network import MLPClassifier"
   ]
  },
  {
   "cell_type": "code",
   "execution_count": 17,
   "id": "b7866027-e628-4458-904d-0663dd5d68f6",
   "metadata": {},
   "outputs": [
    {
     "data": {
      "text/html": [
       "<style>#sk-container-id-1 {color: black;background-color: white;}#sk-container-id-1 pre{padding: 0;}#sk-container-id-1 div.sk-toggleable {background-color: white;}#sk-container-id-1 label.sk-toggleable__label {cursor: pointer;display: block;width: 100%;margin-bottom: 0;padding: 0.3em;box-sizing: border-box;text-align: center;}#sk-container-id-1 label.sk-toggleable__label-arrow:before {content: \"▸\";float: left;margin-right: 0.25em;color: #696969;}#sk-container-id-1 label.sk-toggleable__label-arrow:hover:before {color: black;}#sk-container-id-1 div.sk-estimator:hover label.sk-toggleable__label-arrow:before {color: black;}#sk-container-id-1 div.sk-toggleable__content {max-height: 0;max-width: 0;overflow: hidden;text-align: left;background-color: #f0f8ff;}#sk-container-id-1 div.sk-toggleable__content pre {margin: 0.2em;color: black;border-radius: 0.25em;background-color: #f0f8ff;}#sk-container-id-1 input.sk-toggleable__control:checked~div.sk-toggleable__content {max-height: 200px;max-width: 100%;overflow: auto;}#sk-container-id-1 input.sk-toggleable__control:checked~label.sk-toggleable__label-arrow:before {content: \"▾\";}#sk-container-id-1 div.sk-estimator input.sk-toggleable__control:checked~label.sk-toggleable__label {background-color: #d4ebff;}#sk-container-id-1 div.sk-label input.sk-toggleable__control:checked~label.sk-toggleable__label {background-color: #d4ebff;}#sk-container-id-1 input.sk-hidden--visually {border: 0;clip: rect(1px 1px 1px 1px);clip: rect(1px, 1px, 1px, 1px);height: 1px;margin: -1px;overflow: hidden;padding: 0;position: absolute;width: 1px;}#sk-container-id-1 div.sk-estimator {font-family: monospace;background-color: #f0f8ff;border: 1px dotted black;border-radius: 0.25em;box-sizing: border-box;margin-bottom: 0.5em;}#sk-container-id-1 div.sk-estimator:hover {background-color: #d4ebff;}#sk-container-id-1 div.sk-parallel-item::after {content: \"\";width: 100%;border-bottom: 1px solid gray;flex-grow: 1;}#sk-container-id-1 div.sk-label:hover label.sk-toggleable__label {background-color: #d4ebff;}#sk-container-id-1 div.sk-serial::before {content: \"\";position: absolute;border-left: 1px solid gray;box-sizing: border-box;top: 0;bottom: 0;left: 50%;z-index: 0;}#sk-container-id-1 div.sk-serial {display: flex;flex-direction: column;align-items: center;background-color: white;padding-right: 0.2em;padding-left: 0.2em;position: relative;}#sk-container-id-1 div.sk-item {position: relative;z-index: 1;}#sk-container-id-1 div.sk-parallel {display: flex;align-items: stretch;justify-content: center;background-color: white;position: relative;}#sk-container-id-1 div.sk-item::before, #sk-container-id-1 div.sk-parallel-item::before {content: \"\";position: absolute;border-left: 1px solid gray;box-sizing: border-box;top: 0;bottom: 0;left: 50%;z-index: -1;}#sk-container-id-1 div.sk-parallel-item {display: flex;flex-direction: column;z-index: 1;position: relative;background-color: white;}#sk-container-id-1 div.sk-parallel-item:first-child::after {align-self: flex-end;width: 50%;}#sk-container-id-1 div.sk-parallel-item:last-child::after {align-self: flex-start;width: 50%;}#sk-container-id-1 div.sk-parallel-item:only-child::after {width: 0;}#sk-container-id-1 div.sk-dashed-wrapped {border: 1px dashed gray;margin: 0 0.4em 0.5em 0.4em;box-sizing: border-box;padding-bottom: 0.4em;background-color: white;}#sk-container-id-1 div.sk-label label {font-family: monospace;font-weight: bold;display: inline-block;line-height: 1.2em;}#sk-container-id-1 div.sk-label-container {text-align: center;}#sk-container-id-1 div.sk-container {/* jupyter's `normalize.less` sets `[hidden] { display: none; }` but bootstrap.min.css set `[hidden] { display: none !important; }` so we also need the `!important` here to be able to override the default hidden behavior on the sphinx rendered scikit-learn.org. See: https://github.com/scikit-learn/scikit-learn/issues/21755 */display: inline-block !important;position: relative;}#sk-container-id-1 div.sk-text-repr-fallback {display: none;}</style><div id=\"sk-container-id-1\" class=\"sk-top-container\"><div class=\"sk-text-repr-fallback\"><pre>MLPClassifier(alpha=1e-05, hidden_layer_sizes=(5, 2), random_state=1,\n",
       "              solver=&#x27;lbfgs&#x27;)</pre><b>In a Jupyter environment, please rerun this cell to show the HTML representation or trust the notebook. <br />On GitHub, the HTML representation is unable to render, please try loading this page with nbviewer.org.</b></div><div class=\"sk-container\" hidden><div class=\"sk-item\"><div class=\"sk-estimator sk-toggleable\"><input class=\"sk-toggleable__control sk-hidden--visually\" id=\"sk-estimator-id-1\" type=\"checkbox\" checked><label for=\"sk-estimator-id-1\" class=\"sk-toggleable__label sk-toggleable__label-arrow\">MLPClassifier</label><div class=\"sk-toggleable__content\"><pre>MLPClassifier(alpha=1e-05, hidden_layer_sizes=(5, 2), random_state=1,\n",
       "              solver=&#x27;lbfgs&#x27;)</pre></div></div></div></div></div>"
      ],
      "text/plain": [
       "MLPClassifier(alpha=1e-05, hidden_layer_sizes=(5, 2), random_state=1,\n",
       "              solver='lbfgs')"
      ]
     },
     "execution_count": 17,
     "metadata": {},
     "output_type": "execute_result"
    }
   ],
   "source": [
    "mlp = MLPClassifier(solver='lbfgs', alpha=1e-5, hidden_layer_sizes=(5, 2), random_state=1)\n",
    "mlp.fit(X_train, y_train)"
   ]
  },
  {
   "cell_type": "code",
   "execution_count": 18,
   "id": "9981adf7-0642-415a-af73-b9e403516667",
   "metadata": {},
   "outputs": [
    {
     "name": "stdout",
     "output_type": "stream",
     "text": [
      "0.11212121212121212\n"
     ]
    },
    {
     "data": {
      "text/plain": [
       "array([[ 0,  0,  0,  0,  0,  0,  0,  0,  0, 34],\n",
       "       [ 0,  0,  0,  0,  0,  0,  0,  0,  0, 24],\n",
       "       [ 0,  0,  0,  0,  0,  0,  0,  0,  0, 37],\n",
       "       [ 0,  0,  0,  0,  0,  0,  0,  0,  0, 33],\n",
       "       [ 0,  0,  0,  0,  0,  0,  0,  0,  0, 37],\n",
       "       [ 0,  0,  0,  0,  0,  0,  0,  0,  0, 26],\n",
       "       [ 0,  0,  0,  0,  0,  0,  0,  0,  0, 32],\n",
       "       [ 0,  0,  0,  0,  0,  0,  0,  0,  0, 33],\n",
       "       [ 0,  0,  0,  0,  0,  0,  0,  0,  0, 37],\n",
       "       [ 0,  0,  0,  0,  0,  0,  0,  0,  0, 37]], dtype=int64)"
      ]
     },
     "execution_count": 18,
     "metadata": {},
     "output_type": "execute_result"
    }
   ],
   "source": [
    "y_pred_mlp = mlp.predict(X_test)\n",
    "print(accuracy_score(y_test, y_pred_mlp))\n",
    "confusion_matrix(y_test, y_pred_mlp)"
   ]
  },
  {
   "cell_type": "code",
   "execution_count": 19,
   "id": "b18a822c-b53e-4c1b-bcca-ce66983ee731",
   "metadata": {},
   "outputs": [
    {
     "data": {
      "text/html": [
       "<style>#sk-container-id-2 {color: black;background-color: white;}#sk-container-id-2 pre{padding: 0;}#sk-container-id-2 div.sk-toggleable {background-color: white;}#sk-container-id-2 label.sk-toggleable__label {cursor: pointer;display: block;width: 100%;margin-bottom: 0;padding: 0.3em;box-sizing: border-box;text-align: center;}#sk-container-id-2 label.sk-toggleable__label-arrow:before {content: \"▸\";float: left;margin-right: 0.25em;color: #696969;}#sk-container-id-2 label.sk-toggleable__label-arrow:hover:before {color: black;}#sk-container-id-2 div.sk-estimator:hover label.sk-toggleable__label-arrow:before {color: black;}#sk-container-id-2 div.sk-toggleable__content {max-height: 0;max-width: 0;overflow: hidden;text-align: left;background-color: #f0f8ff;}#sk-container-id-2 div.sk-toggleable__content pre {margin: 0.2em;color: black;border-radius: 0.25em;background-color: #f0f8ff;}#sk-container-id-2 input.sk-toggleable__control:checked~div.sk-toggleable__content {max-height: 200px;max-width: 100%;overflow: auto;}#sk-container-id-2 input.sk-toggleable__control:checked~label.sk-toggleable__label-arrow:before {content: \"▾\";}#sk-container-id-2 div.sk-estimator input.sk-toggleable__control:checked~label.sk-toggleable__label {background-color: #d4ebff;}#sk-container-id-2 div.sk-label input.sk-toggleable__control:checked~label.sk-toggleable__label {background-color: #d4ebff;}#sk-container-id-2 input.sk-hidden--visually {border: 0;clip: rect(1px 1px 1px 1px);clip: rect(1px, 1px, 1px, 1px);height: 1px;margin: -1px;overflow: hidden;padding: 0;position: absolute;width: 1px;}#sk-container-id-2 div.sk-estimator {font-family: monospace;background-color: #f0f8ff;border: 1px dotted black;border-radius: 0.25em;box-sizing: border-box;margin-bottom: 0.5em;}#sk-container-id-2 div.sk-estimator:hover {background-color: #d4ebff;}#sk-container-id-2 div.sk-parallel-item::after {content: \"\";width: 100%;border-bottom: 1px solid gray;flex-grow: 1;}#sk-container-id-2 div.sk-label:hover label.sk-toggleable__label {background-color: #d4ebff;}#sk-container-id-2 div.sk-serial::before {content: \"\";position: absolute;border-left: 1px solid gray;box-sizing: border-box;top: 0;bottom: 0;left: 50%;z-index: 0;}#sk-container-id-2 div.sk-serial {display: flex;flex-direction: column;align-items: center;background-color: white;padding-right: 0.2em;padding-left: 0.2em;position: relative;}#sk-container-id-2 div.sk-item {position: relative;z-index: 1;}#sk-container-id-2 div.sk-parallel {display: flex;align-items: stretch;justify-content: center;background-color: white;position: relative;}#sk-container-id-2 div.sk-item::before, #sk-container-id-2 div.sk-parallel-item::before {content: \"\";position: absolute;border-left: 1px solid gray;box-sizing: border-box;top: 0;bottom: 0;left: 50%;z-index: -1;}#sk-container-id-2 div.sk-parallel-item {display: flex;flex-direction: column;z-index: 1;position: relative;background-color: white;}#sk-container-id-2 div.sk-parallel-item:first-child::after {align-self: flex-end;width: 50%;}#sk-container-id-2 div.sk-parallel-item:last-child::after {align-self: flex-start;width: 50%;}#sk-container-id-2 div.sk-parallel-item:only-child::after {width: 0;}#sk-container-id-2 div.sk-dashed-wrapped {border: 1px dashed gray;margin: 0 0.4em 0.5em 0.4em;box-sizing: border-box;padding-bottom: 0.4em;background-color: white;}#sk-container-id-2 div.sk-label label {font-family: monospace;font-weight: bold;display: inline-block;line-height: 1.2em;}#sk-container-id-2 div.sk-label-container {text-align: center;}#sk-container-id-2 div.sk-container {/* jupyter's `normalize.less` sets `[hidden] { display: none; }` but bootstrap.min.css set `[hidden] { display: none !important; }` so we also need the `!important` here to be able to override the default hidden behavior on the sphinx rendered scikit-learn.org. See: https://github.com/scikit-learn/scikit-learn/issues/21755 */display: inline-block !important;position: relative;}#sk-container-id-2 div.sk-text-repr-fallback {display: none;}</style><div id=\"sk-container-id-2\" class=\"sk-top-container\"><div class=\"sk-text-repr-fallback\"><pre>MLPClassifier(alpha=1e-05, hidden_layer_sizes=(5, 2), random_state=1,\n",
       "              solver=&#x27;lbfgs&#x27;)</pre><b>In a Jupyter environment, please rerun this cell to show the HTML representation or trust the notebook. <br />On GitHub, the HTML representation is unable to render, please try loading this page with nbviewer.org.</b></div><div class=\"sk-container\" hidden><div class=\"sk-item\"><div class=\"sk-estimator sk-toggleable\"><input class=\"sk-toggleable__control sk-hidden--visually\" id=\"sk-estimator-id-2\" type=\"checkbox\" checked><label for=\"sk-estimator-id-2\" class=\"sk-toggleable__label sk-toggleable__label-arrow\">MLPClassifier</label><div class=\"sk-toggleable__content\"><pre>MLPClassifier(alpha=1e-05, hidden_layer_sizes=(5, 2), random_state=1,\n",
       "              solver=&#x27;lbfgs&#x27;)</pre></div></div></div></div></div>"
      ],
      "text/plain": [
       "MLPClassifier(alpha=1e-05, hidden_layer_sizes=(5, 2), random_state=1,\n",
       "              solver='lbfgs')"
      ]
     },
     "execution_count": 19,
     "metadata": {},
     "output_type": "execute_result"
    }
   ],
   "source": [
    "mlp_scaled = MLPClassifier(solver='lbfgs', alpha=1e-5, hidden_layer_sizes=(5, 2), random_state=1)\n",
    "mlp_scaled.fit(X_train_scaled, y_train)"
   ]
  },
  {
   "cell_type": "code",
   "execution_count": 20,
   "id": "429db357-74f1-4083-8c89-522481e2c7b2",
   "metadata": {},
   "outputs": [
    {
     "name": "stdout",
     "output_type": "stream",
     "text": [
      "0.07272727272727272\n"
     ]
    },
    {
     "data": {
      "text/plain": [
       "array([[ 0, 34,  0,  0,  0,  0,  0,  0,  0,  0],\n",
       "       [ 0, 24,  0,  0,  0,  0,  0,  0,  0,  0],\n",
       "       [ 0, 37,  0,  0,  0,  0,  0,  0,  0,  0],\n",
       "       [ 0, 33,  0,  0,  0,  0,  0,  0,  0,  0],\n",
       "       [ 0, 37,  0,  0,  0,  0,  0,  0,  0,  0],\n",
       "       [ 0, 26,  0,  0,  0,  0,  0,  0,  0,  0],\n",
       "       [ 0, 32,  0,  0,  0,  0,  0,  0,  0,  0],\n",
       "       [ 0, 33,  0,  0,  0,  0,  0,  0,  0,  0],\n",
       "       [ 0, 37,  0,  0,  0,  0,  0,  0,  0,  0],\n",
       "       [ 0, 37,  0,  0,  0,  0,  0,  0,  0,  0]], dtype=int64)"
      ]
     },
     "execution_count": 20,
     "metadata": {},
     "output_type": "execute_result"
    }
   ],
   "source": [
    "y_pred_mlp_scaled = mlp_scaled.predict(X_test)\n",
    "print(accuracy_score(y_test, y_pred_mlp_scaled))\n",
    "confusion_matrix(y_test, y_pred_mlp_scaled)"
   ]
  },
  {
   "cell_type": "code",
   "execution_count": 21,
   "id": "5d0514a2-83c9-4aba-bb64-01dccff4f490",
   "metadata": {},
   "outputs": [
    {
     "data": {
      "text/html": [
       "<style>#sk-container-id-3 {color: black;background-color: white;}#sk-container-id-3 pre{padding: 0;}#sk-container-id-3 div.sk-toggleable {background-color: white;}#sk-container-id-3 label.sk-toggleable__label {cursor: pointer;display: block;width: 100%;margin-bottom: 0;padding: 0.3em;box-sizing: border-box;text-align: center;}#sk-container-id-3 label.sk-toggleable__label-arrow:before {content: \"▸\";float: left;margin-right: 0.25em;color: #696969;}#sk-container-id-3 label.sk-toggleable__label-arrow:hover:before {color: black;}#sk-container-id-3 div.sk-estimator:hover label.sk-toggleable__label-arrow:before {color: black;}#sk-container-id-3 div.sk-toggleable__content {max-height: 0;max-width: 0;overflow: hidden;text-align: left;background-color: #f0f8ff;}#sk-container-id-3 div.sk-toggleable__content pre {margin: 0.2em;color: black;border-radius: 0.25em;background-color: #f0f8ff;}#sk-container-id-3 input.sk-toggleable__control:checked~div.sk-toggleable__content {max-height: 200px;max-width: 100%;overflow: auto;}#sk-container-id-3 input.sk-toggleable__control:checked~label.sk-toggleable__label-arrow:before {content: \"▾\";}#sk-container-id-3 div.sk-estimator input.sk-toggleable__control:checked~label.sk-toggleable__label {background-color: #d4ebff;}#sk-container-id-3 div.sk-label input.sk-toggleable__control:checked~label.sk-toggleable__label {background-color: #d4ebff;}#sk-container-id-3 input.sk-hidden--visually {border: 0;clip: rect(1px 1px 1px 1px);clip: rect(1px, 1px, 1px, 1px);height: 1px;margin: -1px;overflow: hidden;padding: 0;position: absolute;width: 1px;}#sk-container-id-3 div.sk-estimator {font-family: monospace;background-color: #f0f8ff;border: 1px dotted black;border-radius: 0.25em;box-sizing: border-box;margin-bottom: 0.5em;}#sk-container-id-3 div.sk-estimator:hover {background-color: #d4ebff;}#sk-container-id-3 div.sk-parallel-item::after {content: \"\";width: 100%;border-bottom: 1px solid gray;flex-grow: 1;}#sk-container-id-3 div.sk-label:hover label.sk-toggleable__label {background-color: #d4ebff;}#sk-container-id-3 div.sk-serial::before {content: \"\";position: absolute;border-left: 1px solid gray;box-sizing: border-box;top: 0;bottom: 0;left: 50%;z-index: 0;}#sk-container-id-3 div.sk-serial {display: flex;flex-direction: column;align-items: center;background-color: white;padding-right: 0.2em;padding-left: 0.2em;position: relative;}#sk-container-id-3 div.sk-item {position: relative;z-index: 1;}#sk-container-id-3 div.sk-parallel {display: flex;align-items: stretch;justify-content: center;background-color: white;position: relative;}#sk-container-id-3 div.sk-item::before, #sk-container-id-3 div.sk-parallel-item::before {content: \"\";position: absolute;border-left: 1px solid gray;box-sizing: border-box;top: 0;bottom: 0;left: 50%;z-index: -1;}#sk-container-id-3 div.sk-parallel-item {display: flex;flex-direction: column;z-index: 1;position: relative;background-color: white;}#sk-container-id-3 div.sk-parallel-item:first-child::after {align-self: flex-end;width: 50%;}#sk-container-id-3 div.sk-parallel-item:last-child::after {align-self: flex-start;width: 50%;}#sk-container-id-3 div.sk-parallel-item:only-child::after {width: 0;}#sk-container-id-3 div.sk-dashed-wrapped {border: 1px dashed gray;margin: 0 0.4em 0.5em 0.4em;box-sizing: border-box;padding-bottom: 0.4em;background-color: white;}#sk-container-id-3 div.sk-label label {font-family: monospace;font-weight: bold;display: inline-block;line-height: 1.2em;}#sk-container-id-3 div.sk-label-container {text-align: center;}#sk-container-id-3 div.sk-container {/* jupyter's `normalize.less` sets `[hidden] { display: none; }` but bootstrap.min.css set `[hidden] { display: none !important; }` so we also need the `!important` here to be able to override the default hidden behavior on the sphinx rendered scikit-learn.org. See: https://github.com/scikit-learn/scikit-learn/issues/21755 */display: inline-block !important;position: relative;}#sk-container-id-3 div.sk-text-repr-fallback {display: none;}</style><div id=\"sk-container-id-3\" class=\"sk-top-container\"><div class=\"sk-text-repr-fallback\"><pre>MLPClassifier(alpha=1e-05, hidden_layer_sizes=(5, 2), random_state=1,\n",
       "              solver=&#x27;sgd&#x27;)</pre><b>In a Jupyter environment, please rerun this cell to show the HTML representation or trust the notebook. <br />On GitHub, the HTML representation is unable to render, please try loading this page with nbviewer.org.</b></div><div class=\"sk-container\" hidden><div class=\"sk-item\"><div class=\"sk-estimator sk-toggleable\"><input class=\"sk-toggleable__control sk-hidden--visually\" id=\"sk-estimator-id-3\" type=\"checkbox\" checked><label for=\"sk-estimator-id-3\" class=\"sk-toggleable__label sk-toggleable__label-arrow\">MLPClassifier</label><div class=\"sk-toggleable__content\"><pre>MLPClassifier(alpha=1e-05, hidden_layer_sizes=(5, 2), random_state=1,\n",
       "              solver=&#x27;sgd&#x27;)</pre></div></div></div></div></div>"
      ],
      "text/plain": [
       "MLPClassifier(alpha=1e-05, hidden_layer_sizes=(5, 2), random_state=1,\n",
       "              solver='sgd')"
      ]
     },
     "execution_count": 21,
     "metadata": {},
     "output_type": "execute_result"
    }
   ],
   "source": [
    "mlp2 = MLPClassifier(solver='sgd', alpha=1e-5, hidden_layer_sizes=(5, 2), random_state=1)\n",
    "mlp2.fit(X_train, y_train)"
   ]
  },
  {
   "cell_type": "code",
   "execution_count": 22,
   "id": "15e48dbd-3caf-4514-ac67-8a3e965b8817",
   "metadata": {},
   "outputs": [
    {
     "name": "stdout",
     "output_type": "stream",
     "text": [
      "0.11212121212121212\n"
     ]
    },
    {
     "data": {
      "text/plain": [
       "array([[ 0,  0,  0,  0,  0,  0,  0,  0,  0, 34],\n",
       "       [ 0,  0,  0,  0,  0,  0,  0,  0,  0, 24],\n",
       "       [ 0,  0,  0,  0,  0,  0,  0,  0,  0, 37],\n",
       "       [ 0,  0,  0,  0,  0,  0,  0,  0,  0, 33],\n",
       "       [ 0,  0,  0,  0,  0,  0,  0,  0,  0, 37],\n",
       "       [ 0,  0,  0,  0,  0,  0,  0,  0,  0, 26],\n",
       "       [ 0,  0,  0,  0,  0,  0,  0,  0,  0, 32],\n",
       "       [ 0,  0,  0,  0,  0,  0,  0,  0,  0, 33],\n",
       "       [ 0,  0,  0,  0,  0,  0,  0,  0,  0, 37],\n",
       "       [ 0,  0,  0,  0,  0,  0,  0,  0,  0, 37]], dtype=int64)"
      ]
     },
     "execution_count": 22,
     "metadata": {},
     "output_type": "execute_result"
    }
   ],
   "source": [
    "y_pred_mlp2 = mlp2.predict(X_test)\n",
    "print(accuracy_score(y_test, y_pred_mlp2))\n",
    "confusion_matrix(y_test, y_pred_mlp2)"
   ]
  },
  {
   "cell_type": "code",
   "execution_count": 23,
   "id": "da687da1-5347-4505-ae30-444696c99006",
   "metadata": {},
   "outputs": [
    {
     "data": {
      "text/html": [
       "<style>#sk-container-id-4 {color: black;background-color: white;}#sk-container-id-4 pre{padding: 0;}#sk-container-id-4 div.sk-toggleable {background-color: white;}#sk-container-id-4 label.sk-toggleable__label {cursor: pointer;display: block;width: 100%;margin-bottom: 0;padding: 0.3em;box-sizing: border-box;text-align: center;}#sk-container-id-4 label.sk-toggleable__label-arrow:before {content: \"▸\";float: left;margin-right: 0.25em;color: #696969;}#sk-container-id-4 label.sk-toggleable__label-arrow:hover:before {color: black;}#sk-container-id-4 div.sk-estimator:hover label.sk-toggleable__label-arrow:before {color: black;}#sk-container-id-4 div.sk-toggleable__content {max-height: 0;max-width: 0;overflow: hidden;text-align: left;background-color: #f0f8ff;}#sk-container-id-4 div.sk-toggleable__content pre {margin: 0.2em;color: black;border-radius: 0.25em;background-color: #f0f8ff;}#sk-container-id-4 input.sk-toggleable__control:checked~div.sk-toggleable__content {max-height: 200px;max-width: 100%;overflow: auto;}#sk-container-id-4 input.sk-toggleable__control:checked~label.sk-toggleable__label-arrow:before {content: \"▾\";}#sk-container-id-4 div.sk-estimator input.sk-toggleable__control:checked~label.sk-toggleable__label {background-color: #d4ebff;}#sk-container-id-4 div.sk-label input.sk-toggleable__control:checked~label.sk-toggleable__label {background-color: #d4ebff;}#sk-container-id-4 input.sk-hidden--visually {border: 0;clip: rect(1px 1px 1px 1px);clip: rect(1px, 1px, 1px, 1px);height: 1px;margin: -1px;overflow: hidden;padding: 0;position: absolute;width: 1px;}#sk-container-id-4 div.sk-estimator {font-family: monospace;background-color: #f0f8ff;border: 1px dotted black;border-radius: 0.25em;box-sizing: border-box;margin-bottom: 0.5em;}#sk-container-id-4 div.sk-estimator:hover {background-color: #d4ebff;}#sk-container-id-4 div.sk-parallel-item::after {content: \"\";width: 100%;border-bottom: 1px solid gray;flex-grow: 1;}#sk-container-id-4 div.sk-label:hover label.sk-toggleable__label {background-color: #d4ebff;}#sk-container-id-4 div.sk-serial::before {content: \"\";position: absolute;border-left: 1px solid gray;box-sizing: border-box;top: 0;bottom: 0;left: 50%;z-index: 0;}#sk-container-id-4 div.sk-serial {display: flex;flex-direction: column;align-items: center;background-color: white;padding-right: 0.2em;padding-left: 0.2em;position: relative;}#sk-container-id-4 div.sk-item {position: relative;z-index: 1;}#sk-container-id-4 div.sk-parallel {display: flex;align-items: stretch;justify-content: center;background-color: white;position: relative;}#sk-container-id-4 div.sk-item::before, #sk-container-id-4 div.sk-parallel-item::before {content: \"\";position: absolute;border-left: 1px solid gray;box-sizing: border-box;top: 0;bottom: 0;left: 50%;z-index: -1;}#sk-container-id-4 div.sk-parallel-item {display: flex;flex-direction: column;z-index: 1;position: relative;background-color: white;}#sk-container-id-4 div.sk-parallel-item:first-child::after {align-self: flex-end;width: 50%;}#sk-container-id-4 div.sk-parallel-item:last-child::after {align-self: flex-start;width: 50%;}#sk-container-id-4 div.sk-parallel-item:only-child::after {width: 0;}#sk-container-id-4 div.sk-dashed-wrapped {border: 1px dashed gray;margin: 0 0.4em 0.5em 0.4em;box-sizing: border-box;padding-bottom: 0.4em;background-color: white;}#sk-container-id-4 div.sk-label label {font-family: monospace;font-weight: bold;display: inline-block;line-height: 1.2em;}#sk-container-id-4 div.sk-label-container {text-align: center;}#sk-container-id-4 div.sk-container {/* jupyter's `normalize.less` sets `[hidden] { display: none; }` but bootstrap.min.css set `[hidden] { display: none !important; }` so we also need the `!important` here to be able to override the default hidden behavior on the sphinx rendered scikit-learn.org. See: https://github.com/scikit-learn/scikit-learn/issues/21755 */display: inline-block !important;position: relative;}#sk-container-id-4 div.sk-text-repr-fallback {display: none;}</style><div id=\"sk-container-id-4\" class=\"sk-top-container\"><div class=\"sk-text-repr-fallback\"><pre>MLPClassifier(alpha=1e-05, hidden_layer_sizes=(5, 2), random_state=1,\n",
       "              solver=&#x27;sgd&#x27;)</pre><b>In a Jupyter environment, please rerun this cell to show the HTML representation or trust the notebook. <br />On GitHub, the HTML representation is unable to render, please try loading this page with nbviewer.org.</b></div><div class=\"sk-container\" hidden><div class=\"sk-item\"><div class=\"sk-estimator sk-toggleable\"><input class=\"sk-toggleable__control sk-hidden--visually\" id=\"sk-estimator-id-4\" type=\"checkbox\" checked><label for=\"sk-estimator-id-4\" class=\"sk-toggleable__label sk-toggleable__label-arrow\">MLPClassifier</label><div class=\"sk-toggleable__content\"><pre>MLPClassifier(alpha=1e-05, hidden_layer_sizes=(5, 2), random_state=1,\n",
       "              solver=&#x27;sgd&#x27;)</pre></div></div></div></div></div>"
      ],
      "text/plain": [
       "MLPClassifier(alpha=1e-05, hidden_layer_sizes=(5, 2), random_state=1,\n",
       "              solver='sgd')"
      ]
     },
     "execution_count": 23,
     "metadata": {},
     "output_type": "execute_result"
    }
   ],
   "source": [
    "mlp_scaled2 = MLPClassifier(solver='sgd', alpha=1e-5, hidden_layer_sizes=(5, 2), random_state=1)\n",
    "mlp_scaled2.fit(X_train_scaled, y_train)"
   ]
  },
  {
   "cell_type": "code",
   "execution_count": 24,
   "id": "2237b587-7809-46bf-85a9-d2864b5447e6",
   "metadata": {},
   "outputs": [
    {
     "name": "stdout",
     "output_type": "stream",
     "text": [
      "0.09696969696969697\n"
     ]
    },
    {
     "data": {
      "text/plain": [
       "array([[ 0,  0,  0,  0,  0,  0, 34,  0,  0,  0],\n",
       "       [ 0,  0,  0,  0,  0,  0, 24,  0,  0,  0],\n",
       "       [ 0,  0,  0,  0,  0,  0, 37,  0,  0,  0],\n",
       "       [ 0,  0,  0,  0,  0,  0, 33,  0,  0,  0],\n",
       "       [ 0,  0,  0,  0,  0,  0, 37,  0,  0,  0],\n",
       "       [ 0,  0,  0,  0,  0,  0, 26,  0,  0,  0],\n",
       "       [ 0,  0,  0,  0,  0,  0, 32,  0,  0,  0],\n",
       "       [ 0,  0,  0,  0,  0,  0, 33,  0,  0,  0],\n",
       "       [ 0,  0,  0,  0,  0,  0, 37,  0,  0,  0],\n",
       "       [ 0,  0,  0,  0,  0,  0, 37,  0,  0,  0]], dtype=int64)"
      ]
     },
     "execution_count": 24,
     "metadata": {},
     "output_type": "execute_result"
    }
   ],
   "source": [
    "y_pred_mlp2_scaled = mlp_scaled2.predict(X_test)\n",
    "print(accuracy_score(y_test, y_pred_mlp2_scaled))\n",
    "confusion_matrix(y_test, y_pred_mlp2_scaled)"
   ]
  },
  {
   "cell_type": "code",
   "execution_count": 33,
   "id": "4b79a75a-9d92-4b15-a809-3c62b716a902",
   "metadata": {},
   "outputs": [
    {
     "name": "stdout",
     "output_type": "stream",
     "text": [
      "Fitting 5 folds for each of 36 candidates, totalling 180 fits\n",
      "[CV 1/5] END activation=identity, learning_rate=constant, solver=lbgfs;, score=nan total time=   0.0s\n",
      "[CV 2/5] END activation=identity, learning_rate=constant, solver=lbgfs;, score=nan total time=   0.0s\n",
      "[CV 3/5] END activation=identity, learning_rate=constant, solver=lbgfs;, score=nan total time=   0.0s\n",
      "[CV 4/5] END activation=identity, learning_rate=constant, solver=lbgfs;, score=nan total time=   0.0s\n",
      "[CV 5/5] END activation=identity, learning_rate=constant, solver=lbgfs;, score=nan total time=   0.0s\n",
      "[CV 1/5] END activation=identity, learning_rate=constant, solver=sgd;, score=0.097 total time=   0.0s\n",
      "[CV 2/5] END activation=identity, learning_rate=constant, solver=sgd;, score=0.104 total time=   0.0s\n",
      "[CV 3/5] END activation=identity, learning_rate=constant, solver=sgd;, score=0.090 total time=   0.0s\n",
      "[CV 4/5] END activation=identity, learning_rate=constant, solver=sgd;, score=0.097 total time=   0.0s\n",
      "[CV 5/5] END activation=identity, learning_rate=constant, solver=sgd;, score=0.098 total time=   0.0s\n",
      "[CV 1/5] END activation=identity, learning_rate=constant, solver=adam;, score=0.090 total time=   0.0s\n",
      "[CV 2/5] END activation=identity, learning_rate=constant, solver=adam;, score=0.164 total time=   0.0s\n",
      "[CV 3/5] END activation=identity, learning_rate=constant, solver=adam;, score=0.157 total time=   0.0s\n",
      "[CV 4/5] END activation=identity, learning_rate=constant, solver=adam;, score=0.187 total time=   0.0s\n",
      "[CV 5/5] END activation=identity, learning_rate=constant, solver=adam;, score=0.233 total time=   0.0s\n",
      "[CV 1/5] END activation=identity, learning_rate=invscaling, solver=lbgfs;, score=nan total time=   0.0s\n",
      "[CV 2/5] END activation=identity, learning_rate=invscaling, solver=lbgfs;, score=nan total time=   0.0s\n",
      "[CV 3/5] END activation=identity, learning_rate=invscaling, solver=lbgfs;, score=nan total time=   0.0s\n",
      "[CV 4/5] END activation=identity, learning_rate=invscaling, solver=lbgfs;, score=nan total time=   0.0s\n",
      "[CV 5/5] END activation=identity, learning_rate=invscaling, solver=lbgfs;, score=nan total time=   0.0s\n",
      "[CV 1/5] END activation=identity, learning_rate=invscaling, solver=sgd;, score=0.097 total time=   0.0s\n",
      "[CV 2/5] END activation=identity, learning_rate=invscaling, solver=sgd;, score=0.104 total time=   0.0s\n",
      "[CV 3/5] END activation=identity, learning_rate=invscaling, solver=sgd;, score=0.097 total time=   0.0s\n",
      "[CV 4/5] END activation=identity, learning_rate=invscaling, solver=sgd;, score=0.090 total time=   0.0s\n",
      "[CV 5/5] END activation=identity, learning_rate=invscaling, solver=sgd;, score=0.105 total time=   0.0s\n",
      "[CV 1/5] END activation=identity, learning_rate=invscaling, solver=adam;, score=0.037 total time=   0.0s\n",
      "[CV 2/5] END activation=identity, learning_rate=invscaling, solver=adam;, score=0.179 total time=   0.0s\n",
      "[CV 3/5] END activation=identity, learning_rate=invscaling, solver=adam;, score=0.306 total time=   0.0s\n",
      "[CV 4/5] END activation=identity, learning_rate=invscaling, solver=adam;, score=0.157 total time=   0.0s\n",
      "[CV 5/5] END activation=identity, learning_rate=invscaling, solver=adam;, score=0.083 total time=   0.0s\n",
      "[CV 1/5] END activation=identity, learning_rate=adaptive, solver=lbgfs;, score=nan total time=   0.0s\n",
      "[CV 2/5] END activation=identity, learning_rate=adaptive, solver=lbgfs;, score=nan total time=   0.0s\n",
      "[CV 3/5] END activation=identity, learning_rate=adaptive, solver=lbgfs;, score=nan total time=   0.0s\n",
      "[CV 4/5] END activation=identity, learning_rate=adaptive, solver=lbgfs;, score=nan total time=   0.0s\n",
      "[CV 5/5] END activation=identity, learning_rate=adaptive, solver=lbgfs;, score=nan total time=   0.0s\n",
      "[CV 1/5] END activation=identity, learning_rate=adaptive, solver=sgd;, score=nan total time=   0.2s\n",
      "[CV 2/5] END activation=identity, learning_rate=adaptive, solver=sgd;, score=nan total time=   0.2s\n",
      "[CV 3/5] END activation=identity, learning_rate=adaptive, solver=sgd;, score=nan total time=   0.2s\n",
      "[CV 4/5] END activation=identity, learning_rate=adaptive, solver=sgd;, score=nan total time=   0.2s\n",
      "[CV 5/5] END activation=identity, learning_rate=adaptive, solver=sgd;, score=nan total time=   0.2s\n",
      "[CV 1/5] END activation=identity, learning_rate=adaptive, solver=adam;, score=0.246 total time=   0.0s\n",
      "[CV 2/5] END activation=identity, learning_rate=adaptive, solver=adam;, score=0.149 total time=   0.0s\n",
      "[CV 3/5] END activation=identity, learning_rate=adaptive, solver=adam;, score=0.239 total time=   0.0s\n",
      "[CV 4/5] END activation=identity, learning_rate=adaptive, solver=adam;, score=0.224 total time=   0.0s\n",
      "[CV 5/5] END activation=identity, learning_rate=adaptive, solver=adam;, score=0.143 total time=   0.0s\n",
      "[CV 1/5] END activation=logistic, learning_rate=constant, solver=lbgfs;, score=nan total time=   0.0s\n",
      "[CV 2/5] END activation=logistic, learning_rate=constant, solver=lbgfs;, score=nan total time=   0.0s\n",
      "[CV 3/5] END activation=logistic, learning_rate=constant, solver=lbgfs;, score=nan total time=   0.0s\n",
      "[CV 4/5] END activation=logistic, learning_rate=constant, solver=lbgfs;, score=nan total time=   0.0s\n",
      "[CV 5/5] END activation=logistic, learning_rate=constant, solver=lbgfs;, score=nan total time=   0.0s\n",
      "[CV 1/5] END activation=logistic, learning_rate=constant, solver=sgd;, score=0.209 total time=   0.4s\n",
      "[CV 2/5] END activation=logistic, learning_rate=constant, solver=sgd;, score=0.149 total time=   0.4s\n",
      "[CV 3/5] END activation=logistic, learning_rate=constant, solver=sgd;, score=0.149 total time=   0.4s\n",
      "[CV 4/5] END activation=logistic, learning_rate=constant, solver=sgd;, score=0.127 total time=   0.0s\n",
      "[CV 5/5] END activation=logistic, learning_rate=constant, solver=sgd;, score=0.120 total time=   0.3s\n",
      "[CV 1/5] END activation=logistic, learning_rate=constant, solver=adam;, score=0.269 total time=   0.0s\n",
      "[CV 2/5] END activation=logistic, learning_rate=constant, solver=adam;, score=0.187 total time=   0.0s\n",
      "[CV 3/5] END activation=logistic, learning_rate=constant, solver=adam;, score=0.149 total time=   0.1s\n",
      "[CV 4/5] END activation=logistic, learning_rate=constant, solver=adam;, score=0.179 total time=   0.0s\n",
      "[CV 5/5] END activation=logistic, learning_rate=constant, solver=adam;, score=0.180 total time=   0.0s\n",
      "[CV 1/5] END activation=logistic, learning_rate=invscaling, solver=lbgfs;, score=nan total time=   0.0s\n",
      "[CV 2/5] END activation=logistic, learning_rate=invscaling, solver=lbgfs;, score=nan total time=   0.0s\n",
      "[CV 3/5] END activation=logistic, learning_rate=invscaling, solver=lbgfs;, score=nan total time=   0.0s\n",
      "[CV 4/5] END activation=logistic, learning_rate=invscaling, solver=lbgfs;, score=nan total time=   0.0s\n",
      "[CV 5/5] END activation=logistic, learning_rate=invscaling, solver=lbgfs;, score=nan total time=   0.0s\n",
      "[CV 1/5] END activation=logistic, learning_rate=invscaling, solver=sgd;, score=0.075 total time=   0.3s\n",
      "[CV 2/5] END activation=logistic, learning_rate=invscaling, solver=sgd;, score=0.104 total time=   0.1s\n",
      "[CV 3/5] END activation=logistic, learning_rate=invscaling, solver=sgd;, score=0.104 total time=   0.0s\n",
      "[CV 4/5] END activation=logistic, learning_rate=invscaling, solver=sgd;, score=0.090 total time=   0.3s\n",
      "[CV 5/5] END activation=logistic, learning_rate=invscaling, solver=sgd;, score=0.090 total time=   0.0s\n",
      "[CV 1/5] END activation=logistic, learning_rate=invscaling, solver=adam;, score=0.224 total time=   0.0s\n",
      "[CV 2/5] END activation=logistic, learning_rate=invscaling, solver=adam;, score=0.201 total time=   0.4s\n",
      "[CV 3/5] END activation=logistic, learning_rate=invscaling, solver=adam;, score=0.187 total time=   0.0s\n",
      "[CV 4/5] END activation=logistic, learning_rate=invscaling, solver=adam;, score=0.142 total time=   0.0s\n",
      "[CV 5/5] END activation=logistic, learning_rate=invscaling, solver=adam;, score=0.188 total time=   0.0s\n",
      "[CV 1/5] END activation=logistic, learning_rate=adaptive, solver=lbgfs;, score=nan total time=   0.0s\n",
      "[CV 2/5] END activation=logistic, learning_rate=adaptive, solver=lbgfs;, score=nan total time=   0.0s\n",
      "[CV 3/5] END activation=logistic, learning_rate=adaptive, solver=lbgfs;, score=nan total time=   0.0s\n",
      "[CV 4/5] END activation=logistic, learning_rate=adaptive, solver=lbgfs;, score=nan total time=   0.0s\n",
      "[CV 5/5] END activation=logistic, learning_rate=adaptive, solver=lbgfs;, score=nan total time=   0.0s\n",
      "[CV 1/5] END activation=logistic, learning_rate=adaptive, solver=sgd;, score=0.216 total time=   0.3s\n",
      "[CV 2/5] END activation=logistic, learning_rate=adaptive, solver=sgd;, score=0.209 total time=   0.3s\n",
      "[CV 3/5] END activation=logistic, learning_rate=adaptive, solver=sgd;, score=0.172 total time=   0.3s\n",
      "[CV 4/5] END activation=logistic, learning_rate=adaptive, solver=sgd;, score=0.194 total time=   0.4s\n",
      "[CV 5/5] END activation=logistic, learning_rate=adaptive, solver=sgd;, score=0.218 total time=   0.3s\n",
      "[CV 1/5] END activation=logistic, learning_rate=adaptive, solver=adam;, score=0.172 total time=   0.1s\n",
      "[CV 2/5] END activation=logistic, learning_rate=adaptive, solver=adam;, score=0.194 total time=   0.1s\n",
      "[CV 3/5] END activation=logistic, learning_rate=adaptive, solver=adam;, score=0.134 total time=   0.0s\n",
      "[CV 4/5] END activation=logistic, learning_rate=adaptive, solver=adam;, score=0.172 total time=   0.0s\n",
      "[CV 5/5] END activation=logistic, learning_rate=adaptive, solver=adam;, score=0.211 total time=   0.0s\n",
      "[CV 1/5] END activation=tanh, learning_rate=constant, solver=lbgfs;, score=nan total time=   0.0s\n",
      "[CV 2/5] END activation=tanh, learning_rate=constant, solver=lbgfs;, score=nan total time=   0.0s\n",
      "[CV 3/5] END activation=tanh, learning_rate=constant, solver=lbgfs;, score=nan total time=   0.0s\n",
      "[CV 4/5] END activation=tanh, learning_rate=constant, solver=lbgfs;, score=nan total time=   0.0s\n",
      "[CV 5/5] END activation=tanh, learning_rate=constant, solver=lbgfs;, score=nan total time=   0.0s\n",
      "[CV 1/5] END activation=tanh, learning_rate=constant, solver=sgd;, score=0.291 total time=   0.4s\n",
      "[CV 2/5] END activation=tanh, learning_rate=constant, solver=sgd;, score=0.194 total time=   0.4s\n",
      "[CV 3/5] END activation=tanh, learning_rate=constant, solver=sgd;, score=0.172 total time=   0.4s\n",
      "[CV 4/5] END activation=tanh, learning_rate=constant, solver=sgd;, score=0.187 total time=   0.4s\n",
      "[CV 5/5] END activation=tanh, learning_rate=constant, solver=sgd;, score=0.226 total time=   0.4s\n",
      "[CV 1/5] END activation=tanh, learning_rate=constant, solver=adam;, score=0.179 total time=   0.0s\n",
      "[CV 2/5] END activation=tanh, learning_rate=constant, solver=adam;, score=0.164 total time=   0.0s\n",
      "[CV 3/5] END activation=tanh, learning_rate=constant, solver=adam;, score=0.149 total time=   0.4s\n",
      "[CV 4/5] END activation=tanh, learning_rate=constant, solver=adam;, score=0.134 total time=   0.0s\n",
      "[CV 5/5] END activation=tanh, learning_rate=constant, solver=adam;, score=0.226 total time=   0.3s\n",
      "[CV 1/5] END activation=tanh, learning_rate=invscaling, solver=lbgfs;, score=nan total time=   0.0s\n",
      "[CV 2/5] END activation=tanh, learning_rate=invscaling, solver=lbgfs;, score=nan total time=   0.0s\n",
      "[CV 3/5] END activation=tanh, learning_rate=invscaling, solver=lbgfs;, score=nan total time=   0.0s\n",
      "[CV 4/5] END activation=tanh, learning_rate=invscaling, solver=lbgfs;, score=nan total time=   0.0s\n",
      "[CV 5/5] END activation=tanh, learning_rate=invscaling, solver=lbgfs;, score=nan total time=   0.0s\n",
      "[CV 1/5] END activation=tanh, learning_rate=invscaling, solver=sgd;, score=0.164 total time=   0.4s\n",
      "[CV 2/5] END activation=tanh, learning_rate=invscaling, solver=sgd;, score=0.090 total time=   0.4s\n",
      "[CV 3/5] END activation=tanh, learning_rate=invscaling, solver=sgd;, score=0.097 total time=   0.4s\n",
      "[CV 4/5] END activation=tanh, learning_rate=invscaling, solver=sgd;, score=0.082 total time=   0.4s\n",
      "[CV 5/5] END activation=tanh, learning_rate=invscaling, solver=sgd;, score=0.083 total time=   0.4s\n",
      "[CV 1/5] END activation=tanh, learning_rate=invscaling, solver=adam;, score=0.276 total time=   0.3s\n",
      "[CV 2/5] END activation=tanh, learning_rate=invscaling, solver=adam;, score=0.142 total time=   0.0s\n",
      "[CV 3/5] END activation=tanh, learning_rate=invscaling, solver=adam;, score=0.187 total time=   0.1s\n",
      "[CV 4/5] END activation=tanh, learning_rate=invscaling, solver=adam;, score=0.134 total time=   0.0s\n",
      "[CV 5/5] END activation=tanh, learning_rate=invscaling, solver=adam;, score=0.188 total time=   0.0s\n",
      "[CV 1/5] END activation=tanh, learning_rate=adaptive, solver=lbgfs;, score=nan total time=   0.0s\n",
      "[CV 2/5] END activation=tanh, learning_rate=adaptive, solver=lbgfs;, score=nan total time=   0.0s\n",
      "[CV 3/5] END activation=tanh, learning_rate=adaptive, solver=lbgfs;, score=nan total time=   0.0s\n",
      "[CV 4/5] END activation=tanh, learning_rate=adaptive, solver=lbgfs;, score=nan total time=   0.0s\n",
      "[CV 5/5] END activation=tanh, learning_rate=adaptive, solver=lbgfs;, score=nan total time=   0.0s\n",
      "[CV 1/5] END activation=tanh, learning_rate=adaptive, solver=sgd;, score=0.321 total time=   0.4s\n",
      "[CV 2/5] END activation=tanh, learning_rate=adaptive, solver=sgd;, score=0.142 total time=   0.4s\n",
      "[CV 3/5] END activation=tanh, learning_rate=adaptive, solver=sgd;, score=0.194 total time=   0.3s\n",
      "[CV 4/5] END activation=tanh, learning_rate=adaptive, solver=sgd;, score=0.209 total time=   0.4s\n",
      "[CV 5/5] END activation=tanh, learning_rate=adaptive, solver=sgd;, score=0.211 total time=   0.4s\n",
      "[CV 1/5] END activation=tanh, learning_rate=adaptive, solver=adam;, score=0.112 total time=   0.0s\n",
      "[CV 2/5] END activation=tanh, learning_rate=adaptive, solver=adam;, score=0.254 total time=   0.1s\n",
      "[CV 3/5] END activation=tanh, learning_rate=adaptive, solver=adam;, score=0.179 total time=   0.0s\n",
      "[CV 4/5] END activation=tanh, learning_rate=adaptive, solver=adam;, score=0.187 total time=   0.1s\n",
      "[CV 5/5] END activation=tanh, learning_rate=adaptive, solver=adam;, score=0.173 total time=   0.1s\n",
      "[CV 1/5] END activation=relu, learning_rate=constant, solver=lbgfs;, score=nan total time=   0.0s\n",
      "[CV 2/5] END activation=relu, learning_rate=constant, solver=lbgfs;, score=nan total time=   0.0s\n",
      "[CV 3/5] END activation=relu, learning_rate=constant, solver=lbgfs;, score=nan total time=   0.0s\n",
      "[CV 4/5] END activation=relu, learning_rate=constant, solver=lbgfs;, score=nan total time=   0.0s\n",
      "[CV 5/5] END activation=relu, learning_rate=constant, solver=lbgfs;, score=nan total time=   0.0s\n",
      "[CV 1/5] END activation=relu, learning_rate=constant, solver=sgd;, score=0.097 total time=   0.0s\n",
      "[CV 2/5] END activation=relu, learning_rate=constant, solver=sgd;, score=0.090 total time=   0.0s\n",
      "[CV 3/5] END activation=relu, learning_rate=constant, solver=sgd;, score=0.119 total time=   0.0s\n",
      "[CV 4/5] END activation=relu, learning_rate=constant, solver=sgd;, score=0.104 total time=   0.0s\n",
      "[CV 5/5] END activation=relu, learning_rate=constant, solver=sgd;, score=0.105 total time=   0.0s\n",
      "[CV 1/5] END activation=relu, learning_rate=constant, solver=adam;, score=0.291 total time=   0.1s\n",
      "[CV 2/5] END activation=relu, learning_rate=constant, solver=adam;, score=0.216 total time=   0.1s\n",
      "[CV 3/5] END activation=relu, learning_rate=constant, solver=adam;, score=0.164 total time=   0.0s\n",
      "[CV 4/5] END activation=relu, learning_rate=constant, solver=adam;, score=0.097 total time=   0.0s\n",
      "[CV 5/5] END activation=relu, learning_rate=constant, solver=adam;, score=0.293 total time=   0.0s\n",
      "[CV 1/5] END activation=relu, learning_rate=invscaling, solver=lbgfs;, score=nan total time=   0.0s\n",
      "[CV 2/5] END activation=relu, learning_rate=invscaling, solver=lbgfs;, score=nan total time=   0.0s\n",
      "[CV 3/5] END activation=relu, learning_rate=invscaling, solver=lbgfs;, score=nan total time=   0.0s\n",
      "[CV 4/5] END activation=relu, learning_rate=invscaling, solver=lbgfs;, score=nan total time=   0.0s\n",
      "[CV 5/5] END activation=relu, learning_rate=invscaling, solver=lbgfs;, score=nan total time=   0.0s\n",
      "[CV 1/5] END activation=relu, learning_rate=invscaling, solver=sgd;, score=0.104 total time=   0.0s\n",
      "[CV 2/5] END activation=relu, learning_rate=invscaling, solver=sgd;, score=0.097 total time=   0.0s\n",
      "[CV 3/5] END activation=relu, learning_rate=invscaling, solver=sgd;, score=0.112 total time=   0.0s\n",
      "[CV 4/5] END activation=relu, learning_rate=invscaling, solver=sgd;, score=0.112 total time=   0.0s\n",
      "[CV 5/5] END activation=relu, learning_rate=invscaling, solver=sgd;, score=0.105 total time=   0.0s\n",
      "[CV 1/5] END activation=relu, learning_rate=invscaling, solver=adam;, score=0.306 total time=   0.1s\n",
      "[CV 2/5] END activation=relu, learning_rate=invscaling, solver=adam;, score=0.164 total time=   0.0s\n",
      "[CV 3/5] END activation=relu, learning_rate=invscaling, solver=adam;, score=0.201 total time=   0.0s\n",
      "[CV 4/5] END activation=relu, learning_rate=invscaling, solver=adam;, score=0.269 total time=   0.0s\n",
      "[CV 5/5] END activation=relu, learning_rate=invscaling, solver=adam;, score=0.218 total time=   0.1s\n",
      "[CV 1/5] END activation=relu, learning_rate=adaptive, solver=lbgfs;, score=nan total time=   0.0s\n",
      "[CV 2/5] END activation=relu, learning_rate=adaptive, solver=lbgfs;, score=nan total time=   0.0s\n",
      "[CV 3/5] END activation=relu, learning_rate=adaptive, solver=lbgfs;, score=nan total time=   0.0s\n",
      "[CV 4/5] END activation=relu, learning_rate=adaptive, solver=lbgfs;, score=nan total time=   0.0s\n",
      "[CV 5/5] END activation=relu, learning_rate=adaptive, solver=lbgfs;, score=nan total time=   0.0s\n",
      "[CV 1/5] END activation=relu, learning_rate=adaptive, solver=sgd;, score=0.097 total time=   0.0s\n",
      "[CV 2/5] END activation=relu, learning_rate=adaptive, solver=sgd;, score=0.097 total time=   0.0s\n",
      "[CV 3/5] END activation=relu, learning_rate=adaptive, solver=sgd;, score=0.097 total time=   0.0s\n",
      "[CV 4/5] END activation=relu, learning_rate=adaptive, solver=sgd;, score=0.097 total time=   0.0s\n",
      "[CV 5/5] END activation=relu, learning_rate=adaptive, solver=sgd;, score=0.098 total time=   0.0s\n",
      "[CV 1/5] END activation=relu, learning_rate=adaptive, solver=adam;, score=0.246 total time=   0.0s\n",
      "[CV 2/5] END activation=relu, learning_rate=adaptive, solver=adam;, score=0.149 total time=   0.0s\n",
      "[CV 3/5] END activation=relu, learning_rate=adaptive, solver=adam;, score=0.209 total time=   0.1s\n",
      "[CV 4/5] END activation=relu, learning_rate=adaptive, solver=adam;, score=0.082 total time=   0.0s\n",
      "[CV 5/5] END activation=relu, learning_rate=adaptive, solver=adam;, score=0.203 total time=   0.0s\n",
      "              precision    recall  f1-score   support\n",
      "\n",
      "       blues       0.13      0.65      0.22        34\n",
      "   classical       1.00      0.29      0.45        24\n",
      "     country       0.18      0.11      0.14        37\n",
      "       disco       0.00      0.00      0.00        33\n",
      "      hiphop       0.00      0.00      0.00        37\n",
      "        jazz       0.00      0.00      0.00        26\n",
      "       metal       0.62      0.41      0.49        32\n",
      "         pop       0.37      0.39      0.38        33\n",
      "      reggae       0.00      0.00      0.00        37\n",
      "        rock       0.13      0.27      0.17        37\n",
      "\n",
      "    accuracy                           0.21       330\n",
      "   macro avg       0.24      0.21      0.19       330\n",
      "weighted avg       0.22      0.21      0.18       330\n",
      "\n"
     ]
    }
   ],
   "source": [
    "param_grid = {'activation': ['identity', 'logistic', 'tanh', 'relu'],\n",
    "                'solver': ['lbgfs', 'sgd', 'adam'],\n",
    "                'learning_rate': ['constant', 'invscaling', 'adaptive']}  \n",
    "\n",
    "grid = GridSearchCV(MLPClassifier(), param_grid, refit = True, verbose = 3, n_jobs = 1)\n",
    "\n",
    "grid.fit(X_train, y_train)\n",
    "\n",
    "grid_predictions = grid.predict(X_test) \n",
    "   \n",
    "# print classification report \n",
    "print(classification_report(y_test, grid_predictions)) "
   ]
  },
  {
   "cell_type": "code",
   "execution_count": null,
   "id": "873eae30-9566-435d-b539-de19815c603f",
   "metadata": {},
   "outputs": [],
   "source": []
  }
 ],
 "metadata": {
  "kernelspec": {
   "display_name": "Python 3 (ipykernel)",
   "language": "python",
   "name": "python3"
  },
  "language_info": {
   "codemirror_mode": {
    "name": "ipython",
    "version": 3
   },
   "file_extension": ".py",
   "mimetype": "text/x-python",
   "name": "python",
   "nbconvert_exporter": "python",
   "pygments_lexer": "ipython3",
   "version": "3.9.15"
  }
 },
 "nbformat": 4,
 "nbformat_minor": 5
}
